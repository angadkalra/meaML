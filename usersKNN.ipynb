{
 "cells": [
  {
   "cell_type": "code",
   "execution_count": 15,
   "metadata": {},
   "outputs": [],
   "source": [
    "import numpy as np\n",
    "import sklearn as skl\n",
    "import scipy as scp \n",
    "import sys\n",
    "\n",
    "# Load dataset: User ID, Movie ID, Rating\n",
    "X = np.loadtxt('ratings_small.csv', dtype=[('userID',np.int_),('movieID',np.int_),('rating',np.float_)], \n",
    "               delimiter=',', skiprows=1, usecols=(0,1,2))\n",
    "\n",
    "n = X.shape[0] # number of ratings\n",
    "uIDs = 672 # number of user IDs + 1\n",
    "\n",
    "# Modify dataset to binary ratings\n",
    "for i in range(n):\n",
    "\tif X[i][2] >= 3.0:\n",
    "\t\tX[i][2] = 1\n",
    "\telse:\n",
    "\t\tX[i][2] = 0\n",
    "\n",
    "# Create dictionary with user as key and array of movieIDs that were selected (value = 1)\n",
    "R = {}\n",
    "\n",
    "for i in range(n):\n",
    "    userID = X[i][0]\n",
    "    \n",
    "    if X[i][2] == 0:\n",
    "        continue\n",
    "    \n",
    "    if userID in R.keys():\n",
    "        R[userID].append(X[i][1])\n",
    "    else:\n",
    "        R[userID] = [X[i][1]]\n",
    "\n",
    "users = R.keys()\n",
    "\n",
    "# Given user id, find KNN (k = 6 for now)\n",
    "def knn(uid):\n",
    "    distances = np.zeros((uIDs,2), dtype=(np.int_,np.int_)) # Each row is (distance, userID)\n",
    "    \n",
    "    uid_movies = np.asarray(R[uid])\n",
    "    \n",
    "    # Go through every user, compute euclid. distance to uid & store (dist, id) in ndarray.\n",
    "    for u in users:\n",
    "        u_movies = np.asarray(R[u])\n",
    "        \n",
    "        intersection = np.intersect1d(uid_movies, u_movies, assume_unique=True)\n",
    "        union = np.union1d(u_movies, uid_movies)\n",
    "        differences = np.setdiff1d(union, intersection)\n",
    "        \n",
    "        dist = differences.size\n",
    "        distances[u,0] = dist\n",
    "        distances[u,1] = u\n",
    "    \n",
    "    # Sort array based on closest dist. Return 6 closest users.\n",
    "    distances = distances[ distances[:,0].argsort() ]\n",
    "    \n",
    "    nn = distances[2:7,1]\n",
    "    \n",
    "    return nn"
   ]
  },
  {
   "cell_type": "code",
   "execution_count": 16,
   "metadata": {},
   "outputs": [
    {
     "name": "stdout",
     "output_type": "stream",
     "text": [
      "[179 579 429 498   1]\n"
     ]
    }
   ],
   "source": [
    "nearest = knn(500)\n",
    "print(nearest)"
   ]
  },
  {
   "cell_type": "code",
   "execution_count": null,
   "metadata": {},
   "outputs": [],
   "source": []
  }
 ],
 "metadata": {
  "kernelspec": {
   "display_name": "Python 3",
   "language": "python",
   "name": "python3"
  },
  "language_info": {
   "codemirror_mode": {
    "name": "ipython",
    "version": 3
   },
   "file_extension": ".py",
   "mimetype": "text/x-python",
   "name": "python",
   "nbconvert_exporter": "python",
   "pygments_lexer": "ipython3",
   "version": "3.5.2"
  }
 },
 "nbformat": 4,
 "nbformat_minor": 2
}
